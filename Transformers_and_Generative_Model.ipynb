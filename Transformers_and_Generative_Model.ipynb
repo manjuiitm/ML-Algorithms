{
  "cells": [
    {
      "cell_type": "markdown",
      "metadata": {
        "id": "view-in-github",
        "colab_type": "text"
      },
      "source": [
        "<a href=\"https://colab.research.google.com/github/manjuiitm/ML-Algorithms/blob/main/Transformers_and_Generative_Model.ipynb\" target=\"_parent\"><img src=\"https://colab.research.google.com/assets/colab-badge.svg\" alt=\"Open In Colab\"/></a>"
      ]
    },
    {
      "cell_type": "markdown",
      "metadata": {
        "id": "wgyNJjVY6Cer"
      },
      "source": [
        "# Content\n",
        "\n",
        "\n",
        "1.   Introduction to Computer Vision (Day 1)\n",
        "2.   Introduction to Numpy and Pytorch(AutoGrad) (Day 1)\n",
        "3.   Attention based Models (Day 1)\n",
        "4.   Language Transformers and Vision Transformers (Day 2)\n",
        "5.   AutoEncoders and Diffusion Models (Day 3)"
      ]
    },
    {
      "cell_type": "markdown",
      "metadata": {
        "id": "eBjJQIHI8xEy"
      },
      "source": [
        "!# Introduction to NumPy\n",
        "\n",
        "## What is NumPy?\n",
        "\n",
        "NumPy (Numerical Python) is a powerful open-source library for scientific computing in Python. It provides:\n",
        "\n",
        "* **High-performance multidimensional arrays:** These are the fundamental data structure in NumPy. They allow efficient storage and manipulation of numerical data.\n",
        "* **Mathematical functions:** A vast collection of functions for operations on arrays (e.g., linear algebra, Fourier transforms, random number generation).\n",
        "* **Broadcasting:**  A mechanism that enables arithmetic operations between arrays of different shapes, promoting code conciseness.\n",
        "* **Tools for integrating with other languages:** NumPy can interface with code written in C/C++ and Fortran, allowing you to leverage existing libraries.\n",
        "\n",
        "## Why NumPy?\n",
        "\n",
        "NumPy's arrays offer several advantages over standard Python lists:\n",
        "\n",
        "* **Compactness:** NumPy arrays use less memory than Python lists, especially when dealing with large datasets.\n",
        "* **Speed:**  NumPy's vectorized operations (performing operations on entire arrays at once) are significantly faster than iterating over Python lists.\n",
        "* **Convenience:**  NumPy provides a wide range of built-in functions for mathematical and scientific operations, simplifying your code.\n",
        "* **Functionality:** NumPy offers advanced features like linear algebra, random number generation, and Fourier transforms, making it essential for scientific computing.\n",
        "\n",
        "## Installing NumPy\n",
        "\n",
        "If you haven't already installed NumPy, you can easily do so using the `pip` package manager:\n",
        "\n",
        "```bash\n",
        "pip install numpy\n"
      ]
    },
    {
      "cell_type": "code",
      "execution_count": null,
      "metadata": {
        "id": "SD8eiL2UluKm"
      },
      "outputs": [],
      "source": [
        "!pip install numpy"
      ]
    },
    {
      "cell_type": "code",
      "execution_count": null,
      "metadata": {
        "id": "rNg1Pgyi6CO8"
      },
      "outputs": [],
      "source": [
        "import numpy as np"
      ]
    },
    {
      "cell_type": "markdown",
      "metadata": {
        "id": "Dnhxu8It9vMi"
      },
      "source": [
        "(The np alias is a convention to shorten the name for easier use throughout your code.)"
      ]
    },
    {
      "cell_type": "markdown",
      "metadata": {
        "id": "ZXzEy3vT91rx"
      },
      "source": [
        "# The Core Concept: NumPy Arrays\n",
        "\n",
        "NumPy arrays (often referred to as `ndarray`, short for \"n-dimensional array\") are the building blocks of NumPy and the foundation for efficient numerical operations. They are homogeneous collections of elements, all of the same data type, and can be of any dimension.\n",
        "\n",
        "## Creating NumPy Arrays\n",
        "\n",
        "There are various ways to create NumPy arrays:\n",
        "\n",
        "### 1. From Python Lists or Tuples:"
      ]
    },
    {
      "cell_type": "code",
      "execution_count": null,
      "metadata": {
        "id": "CHrqozTm57Vq"
      },
      "outputs": [],
      "source": [
        "# 1D array from a list\n",
        "arr1d = np.array([1, 2, 3, 4])\n",
        "\n",
        "# 2D array from a list of lists\n",
        "arr2d = np.array([[1, 2], [3, 4]])\n",
        "\n",
        "# Array from a tuple\n",
        "arr_tuple = np.array((5, 6, 7))"
      ]
    },
    {
      "cell_type": "markdown",
      "metadata": {
        "id": "2rrBYRVb98Wp"
      },
      "source": [
        "### 2. Using Built-in Functions:\n",
        "\n",
        "* `arange()`: Similar to Python's `range()`, but returns a NumPy array.\n",
        "* `linspace()`: Generates evenly spaced numbers within a specified interval.\n",
        "* `zeros()`: Creates an array filled with zeros.\n",
        "* `ones()`: Creates an array filled with ones.\n",
        "* `eye()`: Creates an identity matrix.\n",
        "* `full()`: Creates an array filled with a specified value.\n"
      ]
    },
    {
      "cell_type": "code",
      "execution_count": null,
      "metadata": {
        "id": "m-KoUBVE57TL"
      },
      "outputs": [],
      "source": [
        "arr_arange = np.arange(5, 15, 2)  # Start at 5, stop before 15, step by 2\n",
        "arr_linspace = np.linspace(0, 1, 5,)  # 5 equally spaced points between 0 and 1\n",
        "arr_zeros = np.zeros((2, 3))  # 2 rows, 3 columns\n",
        "arr_ones = np.ones((3, 2))  # 3 rows, 2 columns\n",
        "arr_eye = np.eye(3) # 3x3 identity matrix\n",
        "arr_full = np.full((2, 2), 7) # 2x2 matrix filled with 7\n",
        "\n",
        "print(\"arr_arange:\", arr_arange)\n",
        "print(\"arr_linspace:\", arr_linspace)\n",
        "print(\"arr_zeros:\\n\", arr_zeros)  # \\n adds a newline for better formatting\n",
        "print(\"arr_ones:\\n\", arr_ones)\n",
        "print(\"arr_eye:\\n\", arr_eye)\n",
        "print(\"arr_full:\\n\", arr_full)"
      ]
    },
    {
      "cell_type": "markdown",
      "metadata": {
        "id": "awyRonfP-ChZ"
      },
      "source": [
        "## Array Attributes\n",
        "\n",
        "Important attributes of NumPy arrays:\n",
        "\n",
        "* `shape`: Returns a tuple indicating the dimensions of the array (e.g., `(3, 2)` for a 3x2 array).\n",
        "* `dtype`: Specifies the data type of the array elements (e.g., `int64`, `float32`, `complex128`).\n",
        "* `ndim`: Indicates the number of dimensions of the array (e.g., `1` for 1D, `2` for 2D).\n",
        "* `size`: Total number of elements in the array."
      ]
    },
    {
      "cell_type": "code",
      "execution_count": null,
      "metadata": {
        "id": "Q0ylOVS557QA"
      },
      "outputs": [],
      "source": [
        "arr1d = np.array([1, 2, 3, 4])\n",
        "arr2d = np.array([[5, 6], [7, 8]])\n",
        "arr3d = np.array([[[1, 2], [3, 4]], [[5, 6], [7, 8]]])\n",
        "\n",
        "print(\"arr1d:\")\n",
        "print(\"- shape:\", arr1d.shape)  # (4,)\n",
        "print(\"- dtype:\", arr1d.dtype)  # int64 (default)\n",
        "print(\"- ndim:\", arr1d.ndim)   # 1\n",
        "print(\"- size:\", arr1d.size)   # 4\n",
        "\n",
        "print(\"\\narr2d:\")\n",
        "print(\"- shape:\", arr2d.shape)  # (2, 2)\n",
        "print(\"- dtype:\", arr2d.dtype)  # int64\n",
        "print(\"- ndim:\", arr2d.ndim)   # 2\n",
        "print(\"- size:\", arr2d.size)   # 4\n",
        "\n",
        "print(\"\\narr3d:\")\n",
        "print(\"- shape:\", arr3d.shape)  # (2, 2, 2)\n",
        "print(\"- dtype:\", arr3d.dtype)  # int64\n",
        "print(\"- ndim:\", arr3d.ndim)   # 3\n",
        "print(\"- size:\", arr3d.size)   # 8"
      ]
    },
    {
      "cell_type": "markdown",
      "metadata": {
        "id": "qIaq54oj-Kfh"
      },
      "source": [
        "## Indexing and Slicing\n",
        "\n",
        "NumPy arrays provide powerful indexing and slicing mechanisms to access and manipulate their elements.\n",
        "\n",
        "### Basic Indexing:\n",
        "\n",
        "* Accessing Individual Elements: Use square brackets `[]` with the element's index (starting from 0)."
      ]
    },
    {
      "cell_type": "code",
      "execution_count": null,
      "metadata": {
        "id": "wbMF74h957Gg"
      },
      "outputs": [],
      "source": [
        "arr1d = np.array([10, 20, 30, 40])\n",
        "print(arr1d[0])  # Output: 10\n",
        "print(arr1d[2])  # Output: 30\n",
        "\n",
        "arr2d = np.array([[1, 2], [3, 4]])\n",
        "print(arr2d[0, 1])  # Output: 2 (first row, second column)\n",
        "print(arr2d[1, 0])  # Output: 3 (second row, first column)\n"
      ]
    },
    {
      "cell_type": "markdown",
      "metadata": {
        "id": "wfTNorn--S9y"
      },
      "source": [
        "### Slicing:\n",
        "* Accessing Ranges of Elements: Use a colon : to specify the start (inclusive) and end (exclusive) indices of the slice."
      ]
    },
    {
      "cell_type": "code",
      "execution_count": null,
      "metadata": {
        "id": "K0GgjOzD2Sln"
      },
      "outputs": [],
      "source": [
        "print(arr1d[0:3:2])  # Output: [20 30]\n",
        "print(arr2d[0, :])  # Output: [1 2] (first row, all columns)\n",
        "print(arr2d[:, 1])  # Output: [2 4] (all rows, second column)"
      ]
    },
    {
      "cell_type": "markdown",
      "metadata": {
        "id": "QJwSISsx-Y46"
      },
      "source": [
        "#### Stride:\n",
        "An optional third parameter in a slice can specify the step size between elements."
      ]
    },
    {
      "cell_type": "code",
      "execution_count": null,
      "metadata": {
        "id": "L3Kw7B2b-FCm"
      },
      "outputs": [],
      "source": [
        "print(arr1d[::2])  # Output: [10 30] (every other element)\n",
        "print(arr2d[::-1, ::-1]) # Output: [[4 3] [2 1]] (reversed rows and columns)\n",
        "\n",
        "# Boolean Indexing"
      ]
    },
    {
      "cell_type": "markdown",
      "metadata": {
        "id": "1byCnlmy-kVS"
      },
      "source": [
        "## Array Broadcasting\n",
        "\n",
        "Broadcasting is a powerful mechanism in NumPy that enables arithmetic operations between arrays of different shapes. It's a way to \"stretch\" or \"replicate\" smaller arrays to match the shape of larger arrays, avoiding the need for explicit loops or resizing operations. This leads to concise and efficient code.\n",
        "\n",
        "### How Broadcasting Works:\n",
        "\n",
        "1. **Shape Compatibility:**  NumPy compares the shapes of the arrays involved in the operation, starting from the trailing dimensions (the rightmost ones).\n",
        "2. **Matching or 1:**  Two dimensions are compatible when they are equal or one of them is 1.\n",
        "3. **Expansion:**  If a dimension is 1, NumPy expands (or \"broadcasts\") it to match the corresponding dimension of the other array.\n",
        "4. **Element-wise Operation:** Once the shapes are compatible, the arithmetic operation is performed element-wise.\n"
      ]
    },
    {
      "cell_type": "code",
      "execution_count": null,
      "metadata": {
        "id": "gXahLzrL-E__"
      },
      "outputs": [],
      "source": [
        "arr1 = np.array([[1, 2,3], [3, 4,3]])  # Shape: (2, 2)\n",
        "arr2 = np.array([10, 20])  # Shape: (2,)\n",
        "print(arr2.ndim)\n",
        "print(arr1.ndim)\n",
        "\n",
        "result = arr1 * arr2\n",
        "print(result)\n"
      ]
    },
    {
      "cell_type": "markdown",
      "metadata": {
        "id": "w82nxsSv-oOg"
      },
      "source": [
        "### Rules of Broadcasting:\n",
        "\n",
        "Broadcasting follows a set of rules to determine if two arrays are compatible for operations:\n",
        "\n",
        "1. **Dimension Matching:** If the arrays have different numbers of dimensions, the shape of the one with fewer dimensions is padded with ones on its leading (left) side until both arrays have the same number of dimensions.\n",
        "\n",
        "2. **Element-wise Compatibility:** The arrays are compatible in a dimension if they have the same size in that dimension, or if one of the arrays has size 1 in that dimension.\n",
        "\n",
        "3. **Expansion:** If one array has a dimension of size 1 and the other array has a dimension of size greater than 1, the array with size 1 is \"broadcasted\" (stretched) to match the size of the other array.\n",
        "\n",
        "### When Broadcasting Fails:\n",
        "\n",
        "Broadcasting fails if:\n",
        "\n",
        "* **Incompatible Dimensions:** The trailing dimensions (from the rightmost) of the arrays are not equal, and neither of them is 1.\n",
        "* **Dimension Mismatch:**  After padding with ones, the arrays still don't have the same number of dimensions.\n",
        "\n",
        "### Benefits of Broadcasting:\n",
        "* **Conciseness**: Broadcasting eliminates the need for explicit loops or manual resizing of arrays, resulting in more concise and readable code.\n",
        "* **Efficiency**: NumPy's implementation of broadcasting is highly optimized, leading to efficient computations, especially with large arrays.\n",
        "* **Flexibility**: Broadcasting allows for seamless operations between arrays of different shapes, making it versatile for various scientific computing tasks.\n",
        "* **Vectorization**: Broadcasting leverages NumPy's vectorization capabilities, performing operations on entire arrays at once, leading to faster execution than element-by-element operations in Python loops."
      ]
    },
    {
      "cell_type": "markdown",
      "metadata": {
        "id": "Wz0ph-jX-vhK"
      },
      "source": [
        "# Working with Multi-Dimensional Arrays\n",
        "\n",
        "While one-dimensional arrays (vectors) are useful, NumPy truly shines when dealing with multi-dimensional arrays. This section will cover creating, indexing, slicing, and performing operations on these arrays.\n",
        "\n",
        "## Creating Multi-Dimensional Arrays\n",
        "\n",
        "We've already seen how to create 2D arrays from lists of lists:\n"
      ]
    },
    {
      "cell_type": "code",
      "execution_count": null,
      "metadata": {
        "id": "XeJIsKCO-E9D"
      },
      "outputs": [],
      "source": [
        "arr2d = np.array([[1, 2, 3], [4, 5, 6]])  # 2x3 array\n",
        "\n",
        "arr3d = np.array([[[1, 2], [3, 4]], [[5, 6], [7, 8]]])  # 2x2x2 array\n",
        "\n",
        "\n",
        "arr2d_zeros = np.zeros((3, 5))   # 3x5 array filled with zeros\n",
        "arr3d_ones = np.ones((2, 3, 4))  # 2x3x4 array filled with ones\n",
        "\n",
        "# Indexing and Slicing\n",
        "arr2d = np.array([[1, 2, 3], [4, 5, 6]])  # 2x3 array\n",
        "print(\"2D array:\\n\",arr2d)\n",
        "\n",
        "arr3d = np.array([[[1, 2], [3, 4]], [[5, 6], [7, 8]]])  # 2x2x2 array\n",
        "print(\"\\n3D array:\\n\",arr3d)"
      ]
    },
    {
      "cell_type": "code",
      "execution_count": null,
      "metadata": {
        "id": "gIGfGbEG-E53"
      },
      "outputs": [],
      "source": [
        "print(arr2d[0, 2])  # Output: 3 (first row, third column)\n",
        "print(arr3d[1, 0, 1])  # Output: 6 (second block, first row, second column)\n",
        "print(arr2d[:, 1])  # Output: [2 5] (all rows, second column)\n",
        "print(arr3d[0, ...])  # Output: [[1 2] [3 4]] (first block, all rows and columns)"
      ]
    },
    {
      "cell_type": "markdown",
      "metadata": {
        "id": "0mfSzfQh-_3a"
      },
      "source": [
        "### Choosing from Arrays:\n",
        "\n",
        "NumPy provides convenient ways to randomly select elements from existing arrays:\n",
        "\n",
        "* `choice()`:  Randomly selects elements from a given array. You can choose whether to sample with or without replacement (i.e., whether an element can be selected multiple times).\n",
        "\n"
      ]
    },
    {
      "cell_type": "code",
      "execution_count": null,
      "metadata": {
        "id": "CdjLQ-aE-E3F"
      },
      "outputs": [],
      "source": [
        "choices = np.array(['A', 'B', 'C', 'D'])\n",
        "random_choice = np.random.choice(choices, 3, replace=False)  # 3 samples without replacement\n",
        "print(random_choice)  # Output: e.g., ['B' 'D' 'A']\n",
        "\n",
        "random_choice_with_replacement = np.random.choice(choices, 5, replace=True)\n",
        "print(random_choice_with_replacement)  # Output: e.g., ['D' 'A' 'D' 'B' 'C']"
      ]
    },
    {
      "cell_type": "markdown",
      "metadata": {
        "id": "NwhBJdfT_G9Z"
      },
      "source": [
        "## Linear Algebra\n",
        "\n",
        "NumPy's `linalg` module provides a powerful suite of functions for linear algebra operations. These functions are essential for solving systems of linear equations, performing matrix factorizations, calculating eigenvalues and eigenvectors, and much more.\n",
        "\n",
        "### Basic Linear Algebra Operations:\n",
        "\n",
        "* `linalg.det()`: Calculates the determinant of a square matrix. The determinant is a scalar value that summarizes important properties of the matrix.\n",
        "\n"
      ]
    },
    {
      "cell_type": "markdown",
      "metadata": {
        "id": "VFKuP06h_LjJ"
      },
      "source": [
        "# Image as a Matrix"
      ]
    },
    {
      "cell_type": "code",
      "execution_count": null,
      "metadata": {
        "id": "mTYXSTVi-E0y"
      },
      "outputs": [],
      "source": [
        "from matplotlib import pyplot as plt\n",
        "import numpy as np\n",
        "import skimage\n",
        "from skimage import io"
      ]
    },
    {
      "cell_type": "markdown",
      "metadata": {
        "id": "fwGUmh3Y_ThH"
      },
      "source": [
        "**Read 2 images from URL using skimage**.<br>\n",
        "First image is RGB image and second one is the grayscale version"
      ]
    },
    {
      "cell_type": "code",
      "execution_count": null,
      "metadata": {
        "id": "9jRB64XP-Exu"
      },
      "outputs": [],
      "source": [
        "img = io.imread('https://iith.ac.in/assets/images/towers/tower2.jpg')\n",
        "img_gray = io.imread('https://iith.ac.in/assets/images/towers/tower2.jpg',as_gray = True)"
      ]
    },
    {
      "cell_type": "code",
      "execution_count": null,
      "metadata": {
        "id": "8o-xveezpbCj"
      },
      "outputs": [],
      "source": [
        "plt.imshow(img_gray,)"
      ]
    },
    {
      "cell_type": "code",
      "execution_count": null,
      "metadata": {
        "id": "4yF7oQ0F-Euv"
      },
      "outputs": [],
      "source": [
        "plt.imshow(img)"
      ]
    },
    {
      "cell_type": "markdown",
      "metadata": {
        "id": "EFgeAmMH_b1B"
      },
      "source": [
        "**Print image as a matrix**"
      ]
    },
    {
      "cell_type": "code",
      "execution_count": null,
      "metadata": {
        "id": "v6c6h_J7-Er-"
      },
      "outputs": [],
      "source": [
        "img"
      ]
    },
    {
      "cell_type": "code",
      "execution_count": null,
      "metadata": {
        "id": "MzRrLdHT-EpO"
      },
      "outputs": [],
      "source": [
        "type(img)"
      ]
    },
    {
      "cell_type": "markdown",
      "metadata": {
        "id": "oKU-mPNi_ii2"
      },
      "source": [
        "**Shape of image**<br>\n",
        "Since its an RGB Image, it has 3 channels"
      ]
    },
    {
      "cell_type": "code",
      "execution_count": null,
      "metadata": {
        "id": "hWTVj8zg-Em2"
      },
      "outputs": [],
      "source": [
        "img.shape"
      ]
    },
    {
      "cell_type": "markdown",
      "metadata": {
        "id": "C68Du1-1_o5r"
      },
      "source": [
        "**Plot the RGB channels seperately**<br>\n",
        "Remember each channel takes values between 0 and 255 and has the same height and width, so to visualize these channels it is essential that we choose the appropiate color map for the respective channel."
      ]
    },
    {
      "cell_type": "code",
      "execution_count": null,
      "metadata": {
        "id": "7Kt2nJsl-EkK"
      },
      "outputs": [],
      "source": [
        "fig, axes = plt.subplots(1, 3,figsize=(15,15))\n",
        "axes[0].imshow(img[:,:,0],cmap=plt.cm.Reds_r)\n",
        "axes[1].imshow(img[:,:,1] ,cmap=plt.cm.Blues_r)\n",
        "axes[2].imshow(img[:,:,2],cmap=plt.cm.Greens_r)\n",
        "\n",
        "# RGB Pixel 0,0,200, 0,255,0, 0,0,255"
      ]
    },
    {
      "cell_type": "markdown",
      "metadata": {
        "id": "UHdzCtQQ_uRC"
      },
      "source": [
        "**Plot the grayscale image.**<br>\n",
        "Remember to use the appropiate color map"
      ]
    },
    {
      "cell_type": "code",
      "execution_count": null,
      "metadata": {
        "id": "oh4SRs9v-Eg-"
      },
      "outputs": [],
      "source": [
        "plt.imshow(img_gray,cmap = 'gray')"
      ]
    },
    {
      "cell_type": "code",
      "execution_count": null,
      "metadata": {
        "id": "dqCZ0tUdrIBb"
      },
      "outputs": [],
      "source": []
    },
    {
      "cell_type": "markdown",
      "metadata": {
        "id": "5-EloPLg_zBC"
      },
      "source": [
        "**Print grayscale image as a matrix**<br>\n",
        "Here, the values are normalized between 0 and 1, which is done by skimage while converting RGB image to grayscale. We can always renormalize the values between 0 and 255."
      ]
    },
    {
      "cell_type": "markdown",
      "metadata": {
        "id": "RyP6v1O8_2Zb"
      },
      "source": [
        "Print shape of grayscale image\n",
        "Here, there are only 2 dimensions since the third dimesion for Grayscale Image is 1 as opposed to RGB Image which is 3, and is not really required."
      ]
    },
    {
      "cell_type": "code",
      "execution_count": null,
      "metadata": {
        "id": "atsqUlXv-Ebu"
      },
      "outputs": [],
      "source": [
        "img_gray.shape"
      ]
    },
    {
      "cell_type": "markdown",
      "metadata": {
        "id": "8Xar-V0p_8bB"
      },
      "source": [
        "# Image as a Function"
      ]
    },
    {
      "cell_type": "code",
      "execution_count": null,
      "metadata": {
        "id": "LY7xzNpo-EZf"
      },
      "outputs": [],
      "source": [
        "from matplotlib import pyplot as plt\n",
        "import numpy as np\n",
        "import skimage\n",
        "from mpl_toolkits import mplot3d"
      ]
    },
    {
      "cell_type": "code",
      "execution_count": null,
      "metadata": {
        "id": "T5rtipHD-EW3"
      },
      "outputs": [],
      "source": [
        "# **Get image from skimage.data**<br>\n",
        "# skimage.data has a set of saved images for our utiity."
      ]
    },
    {
      "cell_type": "code",
      "execution_count": null,
      "metadata": {
        "id": "ipVfKcTL-ET-"
      },
      "outputs": [],
      "source": [
        "img = skimage.data.horse()"
      ]
    },
    {
      "cell_type": "markdown",
      "metadata": {
        "id": "ifozvJ6sAFar"
      },
      "source": [
        "**Plot the image of a horse**"
      ]
    },
    {
      "cell_type": "code",
      "execution_count": null,
      "metadata": {
        "id": "1sTID-UK-ERZ"
      },
      "outputs": [],
      "source": [
        "plt.imshow(img,cmap='gray')"
      ]
    },
    {
      "cell_type": "markdown",
      "metadata": {
        "id": "7psx9KCvALQf"
      },
      "source": [
        "**Print image as a matrix**<br>\n",
        "Here we notice that the Numpy ndarry is filled with True and False instead of numbers. This is because we are using an binary image that has only 2 values 0 and 1. Storing the values as Boolean instead of int is better in terms of storage for binary images."
      ]
    },
    {
      "cell_type": "code",
      "execution_count": null,
      "metadata": {
        "id": "_SfXFOIs-EMW"
      },
      "outputs": [],
      "source": [
        "img"
      ]
    },
    {
      "cell_type": "code",
      "execution_count": null,
      "metadata": {
        "id": "zjZTqsCCr1yB"
      },
      "outputs": [],
      "source": [
        "# f: (x,y) -> intesity"
      ]
    },
    {
      "cell_type": "markdown",
      "metadata": {
        "id": "4bv--RNsAQdo"
      },
      "source": [
        "**Plot the image as a function**\n",
        "\n",
        "In computer vision (CV), an \"image as a function\" concept means that an image is treated mathematically as a function where each pixel represents a unique coordinate with a corresponding intensity value, allowing for manipulation and analysis of the image using mathematical operations applied to this functional representation.\n",
        "\n",
        "\n",
        "\n",
        "*   Pixel as a coordinate: Each pixel in an image is considered a point in a 2D grid, with its x and y coordinates defining its position within the image.\n",
        "Intensity value as output:\n",
        "*  The value of the function at a specific pixel coordinate represents the intensity level (brightness) of that pixel, usually ranging from 0 (black) to 255 (white) for 8-bit grayscale images.\n",
        "\n",
        "\n",
        "\n",
        "\n",
        "By treating an image as a function, various image processing operations like filtering, edge detection, and transformations can be implemented using mathematical operations like derivatives, convolutions, and matrix manipulations.\n",
        "\n",
        "\n",
        "\n",
        "Algorithmic efficiency:\n",
        "This approach allows for efficient computational processing of images because algorithms can operate on pixel values directly using mathematical functions.\n",
        "\n",
        "\n",
        "# Laplacian and why it cannot be performed on an image matrix\n",
        "\"\"\"\n",
        "The Laplacian of an image is a second-order derivative operator that measures the rate of change of gradients.\n",
        "It is used to detect regions of rapid intensity change, such as edges.\n",
        "\n",
        "When considering an image as a function, the Laplacian can be computed analytically by taking the second derivatives of the function.\n",
        "However, when treating an image as a matrix, we only have discrete pixel values, making it impossible to compute true second derivatives.\n",
        "Instead, we approximate it using discrete convolution filters, such as the Laplacian kernel.\n",
        "\"\"\""
      ]
    },
    {
      "cell_type": "code",
      "execution_count": null,
      "metadata": {
        "id": "l1rD6C_Y-EJJ"
      },
      "outputs": [],
      "source": [
        "fig = plt.figure(figsize=(10,10))\n",
        "ax = plt.axes(projection='3d')\n",
        "\n",
        "def f(x,y):\n",
        "  return img[x,y]\n",
        "\n",
        "x = np.arange(328)\n",
        "y = np.arange(400)\n",
        "\n",
        "X, Y = np.meshgrid(x, y)\n",
        "Z = f(X, Y)\n",
        "\n",
        "ax.plot_wireframe(X, Y, Z)"
      ]
    },
    {
      "cell_type": "markdown",
      "metadata": {
        "id": "GsXrwYOuAXqm"
      },
      "source": [
        "# Image Transformations"
      ]
    },
    {
      "cell_type": "code",
      "execution_count": null,
      "metadata": {
        "id": "5OIVOgAu-ED_"
      },
      "outputs": [],
      "source": [
        "img = skimage.data.camera()"
      ]
    },
    {
      "cell_type": "code",
      "execution_count": null,
      "metadata": {
        "id": "6gizKA8qAZJ5"
      },
      "outputs": [],
      "source": [
        "fig, axes = plt.subplots(1, 4,figsize=(15,15))\n",
        "axes[0].imshow(img,cmap='gray')\n",
        "axes[1].imshow(img + 40,cmap='gray')\n",
        "axes[2].imshow(img[::-1],cmap='gray')\n",
        "axes[3].imshow(img[:,::-1],cmap='gray')\n",
        "axes[0].title.set_text('Original Image')\n",
        "axes[1].title.set_text('Image with increased Intensity')\n",
        "axes[2].title.set_text('Flip Rows')\n",
        "axes[3].title.set_text('Flip Columns')"
      ]
    },
    {
      "cell_type": "code",
      "execution_count": null,
      "metadata": {
        "id": "XvZ8UcDKAZHG"
      },
      "outputs": [],
      "source": [
        "img = skimage.data.camera()\n",
        "\n",
        "# Max  and Min Value of an 8 bit image\n",
        "IMAX = 255\n",
        "IMIN = 0\n",
        "\n",
        "\n",
        "# Reversing the contrast\n",
        "img_2 = IMAX - img + IMIN\n",
        "\n",
        "fig, axes = plt.subplots(1, 2,figsize=(10,10))\n",
        "axes[0].imshow(img,cmap='gray')\n",
        "axes[1].imshow(img_2,cmap='gray')"
      ]
    },
    {
      "cell_type": "markdown",
      "metadata": {
        "id": "rjv06vvFIBdK"
      },
      "source": [
        "\n",
        "# Cross- Correlation vs Convolution (using Impulse signal)\n",
        "Cross- Correlation vs Convolution (using Impulse signal)"
      ]
    },
    {
      "cell_type": "code",
      "execution_count": null,
      "metadata": {
        "id": "tBYRvG1PuEXN"
      },
      "outputs": [],
      "source": [
        "# 0 0 0  0\n",
        "# 0 1 2\n",
        "# 0 4 5\n"
      ]
    },
    {
      "cell_type": "code",
      "execution_count": null,
      "metadata": {
        "id": "lHAKh3JLAZD-"
      },
      "outputs": [],
      "source": [
        "import numpy as np\n",
        "import matplotlib.pyplot as plt"
      ]
    },
    {
      "cell_type": "markdown",
      "metadata": {
        "id": "bUheO4MLIIak"
      },
      "source": [
        "**Create a black image with a single white pixel in the middle**"
      ]
    },
    {
      "cell_type": "code",
      "execution_count": null,
      "metadata": {
        "id": "uDMIa3nkAZBN"
      },
      "outputs": [],
      "source": [
        "img = np.zeros((7,7))\n",
        "img[3,3] = 5\n",
        "img\n",
        "\n"
      ]
    },
    {
      "cell_type": "code",
      "execution_count": null,
      "metadata": {
        "id": "EWSDHD31AY-u"
      },
      "outputs": [],
      "source": [
        "plt.imshow(img,cmap='gray')"
      ]
    },
    {
      "cell_type": "markdown",
      "metadata": {
        "id": "Oe7R0rlKIQQ2"
      },
      "source": [
        "**Create a filter that goes from black to white using np.linspace**"
      ]
    },
    {
      "cell_type": "code",
      "execution_count": null,
      "metadata": {
        "id": "B-sdTcF4AY72"
      },
      "outputs": [],
      "source": [
        "filter_ = np.linspace(0,1,9).reshape(3,3)\n",
        "filter_"
      ]
    },
    {
      "cell_type": "code",
      "execution_count": null,
      "metadata": {
        "id": "ewnVnp2wzGPG"
      },
      "outputs": [],
      "source": [
        "flipped_filter  = np.array([[1, 0.875, 0.75],[0.625, 0.5, 0.375],[0.25, 0.125, 0]])\n",
        "\n",
        "plt.imshow(flipped_filter,cmap=\"gray\")"
      ]
    },
    {
      "cell_type": "code",
      "execution_count": null,
      "metadata": {
        "id": "p58AhRkEAY4x"
      },
      "outputs": [],
      "source": [
        "plt.imshow(filter_,cmap='gray')"
      ]
    },
    {
      "cell_type": "code",
      "execution_count": null,
      "metadata": {
        "id": "i0CQ2q9-MxND"
      },
      "outputs": [],
      "source": []
    },
    {
      "cell_type": "markdown",
      "metadata": {
        "id": "z0H6M368Mx2d"
      },
      "source": [
        "## Cross Correlation"
      ]
    },
    {
      "cell_type": "markdown",
      "metadata": {
        "id": "ReYSbcLEMrnR"
      },
      "source": [
        "**Store the filter size and compute value of k** <br>\n",
        "You can obtain k from the following equation $2*k+1=filter\\_size$"
      ]
    },
    {
      "cell_type": "code",
      "execution_count": null,
      "metadata": {
        "id": "7gke6pfe-EA-"
      },
      "outputs": [],
      "source": [
        "filter_size = filter_.shape[0]\n",
        "k = int((filter_size - 1)/2)"
      ]
    },
    {
      "cell_type": "code",
      "execution_count": null,
      "metadata": {
        "id": "U_0ptxIRMj_m"
      },
      "outputs": [],
      "source": [
        "corr_out = []"
      ]
    },
    {
      "cell_type": "code",
      "execution_count": null,
      "metadata": {
        "id": "ZjraD4qIMj9A"
      },
      "outputs": [],
      "source": [
        "for i in range(k,img.shape[0]-k):\n",
        "  temp = []\n",
        "  for j in range(k,img.shape[1]-k):\n",
        "    mat = img[i-k:i+k+1,j-k:j+k+1]\n",
        "    temp.append(np.sum(filter_ * mat))\n",
        "  corr_out.append(temp)"
      ]
    },
    {
      "cell_type": "code",
      "execution_count": null,
      "metadata": {
        "id": "wFmjx_rmMj6u"
      },
      "outputs": [],
      "source": [
        "corr_out = np.array(corr_out)\n",
        "corr_out.shape"
      ]
    },
    {
      "cell_type": "code",
      "execution_count": null,
      "metadata": {
        "id": "rv0bGe7zMj3k"
      },
      "outputs": [],
      "source": [
        "corr_out"
      ]
    },
    {
      "cell_type": "code",
      "execution_count": null,
      "metadata": {
        "id": "0URNhyc3NEHH"
      },
      "outputs": [],
      "source": [
        "plt.imshow(corr_out,cmap='gray')\n",
        "#You will notice that the output is flipped"
      ]
    },
    {
      "cell_type": "markdown",
      "metadata": {
        "id": "iJtNlTMGNP27"
      },
      "source": [
        "## Convolution"
      ]
    },
    {
      "cell_type": "code",
      "execution_count": null,
      "metadata": {
        "id": "UGO9aKqwNEEW"
      },
      "outputs": [],
      "source": [
        "# Convolution is just like correlation, except that we flip over the filter before correlating.\n",
        "# The key difference between the two is that convolution is associative.\n",
        "#  It is very convenient to have convolution be associative.\n",
        "# Suppose, for example, we want to smooth an image and then take its derivative. We\n",
        "# could do this by convolving the image with a Gaussian filter, and then convolving it with\n",
        "# a derivative filter. But we could alternatively convolve the derivative filter with the\n",
        "# Gaussian to produce a filter called a Difference of Gaussian (DOG), and then convolve\n",
        "# this with our image. The nice thing about this is that the DOG filter can be precomputed,\n",
        "# and we only have to convolve one filter with our image.\n",
        "\n",
        "# In general, people use convolution for image processing operations such as smoothing,\n",
        "# and they use correlation to match a template to an image. Then, we don’t mind that\n",
        "# correlation isn’t associative, because it doesn’t really make sense to combine two\n",
        "# templates into one with correlation, whereas we might often want to combine two filter\n",
        "# together for convolution\n",
        "conv_out = []\n",
        "for i in range(k,img.shape[0]-k):\n",
        "  temp = []\n",
        "  for j in range(k,img.shape[1]-k):\n",
        "    mat = img[i-k:i+k+1,j-k:j+k+1][::-1,::-1]    # You can also use np.flip\n",
        "    temp.append(np.sum(filter_ * mat))\n",
        "  conv_out.append(temp)\n",
        "\n",
        "conv_out = np.array(conv_out)\n",
        "conv_out.shape"
      ]
    },
    {
      "cell_type": "code",
      "execution_count": null,
      "metadata": {
        "id": "CM52rI6tNEBn"
      },
      "outputs": [],
      "source": [
        "conv_out"
      ]
    },
    {
      "cell_type": "code",
      "execution_count": null,
      "metadata": {
        "id": "fi3u7yLGND_O"
      },
      "outputs": [],
      "source": [
        "# You will notice that output is not flipped for convolution\n",
        "\n",
        "plt.imshow(conv_out,cmap='gray')"
      ]
    },
    {
      "cell_type": "markdown",
      "metadata": {
        "id": "TE-HVuXVYekG"
      },
      "source": [
        "# Basics of Pytorch"
      ]
    },
    {
      "cell_type": "markdown",
      "metadata": {
        "id": "K9huFPVJYilo"
      },
      "source": [
        "PyTorch is a Python-based scientific computing package targeted at two sets of\n",
        "audiences:\n",
        "\n",
        "-  A replacement for NumPy optimized for the power of GPUs\n",
        "-  A deep learning platform that provides significant flexibility\n",
        "   and speed\n",
        "\n",
        "At its core, PyTorch provides a few key features:\n",
        "\n",
        "- A multidimensional [Tensor](https://pytorch.org/docs/stable/tensors.html) object, similar to [NumPy Array](https://numpy.org/doc/stable/reference/generated/numpy.ndarray.html) but with GPU acceleration.\n",
        "- An optimized **autograd** engine for automatically computing derivatives.\n",
        "- A clean, modular API for building and deploying **deep learning models**.\n",
        "\n",
        "You can find more information about PyTorch in the Appendix."
      ]
    },
    {
      "cell_type": "code",
      "execution_count": null,
      "metadata": {
        "id": "8niZuIJx11uL"
      },
      "outputs": [],
      "source": [
        "import torch"
      ]
    },
    {
      "cell_type": "code",
      "execution_count": null,
      "metadata": {
        "id": "O7Vgilb3YeV2"
      },
      "outputs": [],
      "source": [
        "# We can construct a tensor directly from some common python iterables,\n",
        "# such as list and tuple nested iterables can also be handled as long as the\n",
        "# dimensions are compatible\n",
        "\n",
        "# tensor from a list\n",
        "a = torch.tensor([0, 1, 2])\n",
        "\n",
        "#tensor from a tuple of tuples\n",
        "b = ((1.0, 1.1), (1.2, 1.3))\n",
        "b = torch.tensor(b)\n",
        "\n",
        "# tensor from a numpy array\n",
        "c = np.ones([2, 3])\n",
        "c = torch.tensor(c)\n",
        "\n",
        "print(f\"Tensor a: {a}\")\n",
        "print(f\"Tensor b: {b}\")\n",
        "print(f\"Tensor c: {c}\")"
      ]
    },
    {
      "cell_type": "markdown",
      "metadata": {
        "id": "-vzxEnS2YuBO"
      },
      "source": [
        "### Manipulating Tensors in Pytorch"
      ]
    },
    {
      "cell_type": "markdown",
      "metadata": {
        "id": "XYh7dPWcYxkB"
      },
      "source": [
        "**Indexing**\n",
        "\n",
        "Just as in numpy, elements in a tensor can be accessed by index. As in any numpy array, the first element has index 0 and ranges are specified to include the first to last_element-1. We can access elements according to their relative position to the end of the list by using negative indices. Indexing is also referred to as slicing.\n",
        "\n",
        "For example, `[-1]` selects the last element; `[1:3]` selects the second and the third elements, and `[:-2]` will select all elements excluding the last and second-to-last elements."
      ]
    },
    {
      "cell_type": "code",
      "execution_count": null,
      "metadata": {
        "id": "kGmhGicTND8e"
      },
      "outputs": [],
      "source": [
        "x = torch.arange(0, 10)\n",
        "print(x)\n",
        "print(x[-1])\n",
        "print(x[1:3])\n",
        "print(x[:-2])"
      ]
    },
    {
      "cell_type": "code",
      "execution_count": null,
      "metadata": {
        "id": "YdXis40QND52"
      },
      "outputs": [],
      "source": [
        "# make a 5D tensor\n",
        "x = torch.rand(1, 2, 3, 4, 5)\n",
        "print(x.shape)\n",
        "print(f\" shape of x[0]:{x[0].shape}\")\n",
        "print(f\" shape of x[0][0]:{x[0][0].shape}\")\n",
        "print(f\" shape of x[0][0][0]:{x[0][0][0].shape}\")"
      ]
    },
    {
      "cell_type": "code",
      "execution_count": null,
      "metadata": {
        "id": "S9x5l08NND22"
      },
      "outputs": [],
      "source": [
        "# By default, when we create a tensor it will *not* live on the GPU!\n",
        "\n",
        "x = torch.randn(10)\n",
        "print(x.device)\n",
        "\n",
        "# When using Colab notebooks, by default, will not have access to a GPU. In order to start using GPUs we need to request one. We can do this by going to the runtime tab at the top of the page.\n",
        "\n",
        "# By following *Runtime* → *Change runtime type* and selecting **GPU** from the *Hardware Accelerator* dropdown list, we can start playing with sending tensors to GPUs.\n",
        "\n",
        "# Once you have done this your runtime will restart and you will need to rerun the first setup cell to reimport PyTorch. Then proceed to the next cell.\n"
      ]
    },
    {
      "cell_type": "code",
      "execution_count": null,
      "metadata": {
        "id": "DhYA-UAXNDzj"
      },
      "outputs": [],
      "source": [
        "print(torch.cuda.is_available())\n"
      ]
    },
    {
      "cell_type": "markdown",
      "metadata": {
        "id": "V8mTsdkHZIka"
      },
      "source": [
        "[CUDA](https://developer.nvidia.com/cuda-toolkit) is an API developed by Nvidia for interfacing with GPUs. PyTorch provides us with a layer of abstraction, and allows us to launch CUDA kernels using pure Python.\n",
        "\n",
        "In short, we get the power of parallelizing our tensor computations on GPUs, whilst only writing (relatively) simple Python!\n",
        "\n",
        "Here, we define the function `set_device`, which returns the device use in the notebook, i.e., `cpu` or `cuda`. Unless otherwise specified, we use this function on top of every tutorial, and we store the device variable such as\n",
        "\n",
        "```python\n",
        "DEVICE = set_device()\n",
        "```\n",
        "\n",
        "Let's define the function using the PyTorch package `torch.cuda`, which is lazily initialized, so we can always import it, and use `is_available()` to determine if our system supports CUDA."
      ]
    },
    {
      "cell_type": "code",
      "execution_count": null,
      "metadata": {
        "id": "7hw-Vfc0ZF5H"
      },
      "outputs": [],
      "source": [
        "# common device agnostic way of writing code that can run on cpu OR gpu\n",
        "# that we provide for you in each of the tutorials\n",
        "DEVICE = \"cuda\"\n",
        "\n",
        "# we can specify a device when we first create our tensor\n",
        "x = torch.randn(2, 2, device=DEVICE)\n",
        "print(x.dtype)\n",
        "print(x.device)\n",
        "\n",
        "# we can also use the .to() method to change the device a tensor lives on\n",
        "y = torch.randn(2, 2)\n",
        "print(f\"y before calling to() | device: {y.device} | dtype: {y.type()}\")\n",
        "\n",
        "y = y.to(DEVICE)\n",
        "print(f\"y after calling to() | device: {y.device} | dtype: {y.type()}\")"
      ]
    },
    {
      "cell_type": "code",
      "execution_count": null,
      "metadata": {
        "id": "2xZX4SH9ZF2G"
      },
      "outputs": [],
      "source": [
        "x = torch.tensor([0, 1, 2], device=DEVICE)\n",
        "y = torch.tensor([3, 4, 5], device=\"cpu\")\n",
        "z = torch.tensor([6, 7, 8], device=DEVICE)\n",
        "\n",
        "# moving to cpu\n",
        "# x = x.to(\"cpu\")  # alternatively, you can use x = x.cpu()\n",
        "print(x + y)\n",
        "\n",
        "# moving to gpu\n",
        "y = y.to(DEVICE)  # alternatively, you can use y = y.cuda()\n",
        "print(y + z)"
      ]
    },
    {
      "cell_type": "code",
      "execution_count": null,
      "metadata": {
        "id": "zNSD55zIFr4_"
      },
      "outputs": [],
      "source": []
    }
  ],
  "metadata": {
    "accelerator": "GPU",
    "colab": {
      "collapsed_sections": [
        "xT05YouGDIMF",
        "N1fIaPCIDSvK",
        "jF7u7dz8DYL6",
        "rbpA6UdmDdA6"
      ],
      "gpuType": "T4",
      "provenance": [],
      "include_colab_link": true
    },
    "kernelspec": {
      "display_name": "Python 3 (ipykernel)",
      "language": "python",
      "name": "python3"
    },
    "language_info": {
      "codemirror_mode": {
        "name": "ipython",
        "version": 3
      },
      "file_extension": ".py",
      "mimetype": "text/x-python",
      "name": "python",
      "nbconvert_exporter": "python",
      "pygments_lexer": "ipython3",
      "version": "3.8.20"
    }
  },
  "nbformat": 4,
  "nbformat_minor": 0
}